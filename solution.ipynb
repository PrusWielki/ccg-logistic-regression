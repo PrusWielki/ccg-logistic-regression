{
 "cells": [
  {
   "cell_type": "markdown",
   "metadata": {},
   "source": [
    "# Cyclic Coordinate Descent for Logistic Regression with Lasso regularization\n",
    "\n",
    "This notebook presents the implementation of Cyclic Coordinate Descent (CCD) algorithm for parameter \n",
    "estimation in regularized logistic regression with l1 (lasso) penalty and compares it with standard \n",
    "logistic regression model without regularization. "
   ]
  },
  {
   "cell_type": "markdown",
   "metadata": {},
   "source": [
    "## Imports & Consts"
   ]
  },
  {
   "cell_type": "markdown",
   "metadata": {},
   "source": [
    "TODO: Add information about reproducibility"
   ]
  },
  {
   "cell_type": "code",
   "execution_count": 2,
   "metadata": {},
   "outputs": [],
   "source": [
    "import os\n",
    "import arff\n",
    "import numpy as np\n",
    "import polars as pl\n",
    "from typing import List"
   ]
  },
  {
   "cell_type": "code",
   "execution_count": 3,
   "metadata": {},
   "outputs": [],
   "source": [
    "CONST_DATASET_DIRECTORY_PATH = \"./datasets\"\n",
    "CONST_RESuLTS_DIRECTORY_PATH = \"./results\""
   ]
  },
  {
   "cell_type": "markdown",
   "metadata": {},
   "source": [
    "## Data preprocessing"
   ]
  },
  {
   "cell_type": "markdown",
   "metadata": {},
   "source": [
    "TODO: Describe the datasets"
   ]
  },
  {
   "cell_type": "code",
   "execution_count": null,
   "metadata": {},
   "outputs": [],
   "source": [
    "def load_datasets() -> List[pl.DataFrame]:\n",
    "    \"\"\"Load all datasets from the datasets folder and return them as a list of polars dataframes.\"\"\"\n",
    "    datasets = []\n",
    "    for file in os.listdir(CONST_DATASET_DIRECTORY_PATH):\n",
    "        if file.endswith(\".arff\"):\n",
    "            with open(f\"datasets/{file}\", \"r\") as f:\n",
    "                data = arff.load(f)\n",
    "                df = pl.DataFrame(data[\"data\"])\n",
    "                df.columns = [i[0] for i in data[\"attributes\"]]\n",
    "                datasets.append(df)\n",
    "    return datasets\n",
    "\n",
    "\n",
    "def fill_missing_values(df: pl.DataFrame) -> pl.DataFrame:\n",
    "    \"\"\"Fill the missing values in the dataframe using the mean of the column strategy.\"\"\"\n",
    "    return df.fillna(df.mean())\n",
    "\n",
    "\n",
    "def remove_colinear_features(df: pl.DataFrame) -> pl.DataFrame:\n",
    "    \"\"\"Remove features of a dataframe that are colinear.\"\"\"\n",
    "    return df.drop(columns=df.corr().abs().sum() > 1)\n",
    "\n",
    "\n",
    "def normalize(df: pl.DataFrame) -> pl.DataFrame:\n",
    "    \"\"\"Normalize the features of a dataframe based on mean and standard deviation.\"\"\"\n",
    "    return (df - df.mean()) / df.std()"
   ]
  },
  {
   "cell_type": "code",
   "execution_count": null,
   "metadata": {},
   "outputs": [],
   "source": [
    "datasets = load_datasets()\n",
    "for dataset in datasets:\n",
    "    print(dataset.describe())"
   ]
  },
  {
   "cell_type": "code",
   "execution_count": null,
   "metadata": {},
   "outputs": [],
   "source": [
    "# Preprocess the datasets, including filling missing values, removing colinear features and normalizing the feature values.\n",
    "preprocessing_pipeline = [fill_missing_values, remove_colinear_features, normalize]\n",
    "\n",
    "# Overwrite the original datasets list with the preprocessed datasets to save memory.\n",
    "for i in range(len(datasets)):\n",
    "    for f in preprocessing_pipeline:\n",
    "        datasets[i] = f(datasets[i])\n",
    "        print(datasets[i].describe())"
   ]
  },
  {
   "cell_type": "markdown",
   "metadata": {},
   "source": [
    "## LogRegCCD\n",
    "\n",
    "Implementation of regularized Logistic Regression wiht Cyclic Coordinate Descent based on the [publication](https://www.jstatsoft.org/article/view/v033i01)."
   ]
  },
  {
   "cell_type": "markdown",
   "metadata": {},
   "source": [
    "TODO: Add high-level overview of the algorithm"
   ]
  },
  {
   "cell_type": "code",
   "execution_count": null,
   "metadata": {},
   "outputs": [],
   "source": [
    "# TODO: Implement it.\n",
    "\n",
    "\n",
    "class LogRegCCD:\n",
    "    \"\"\"Logistic Regression with Coordinate Cyclic Descent and Lasso Regularization.\"\"\"\n",
    "\n",
    "    def __init__(self) -> None:\n",
    "        \"\"\"Initialize the LogRegCCD model.\"\"\"\n",
    "        pass\n",
    "\n",
    "    def fit(self, X_train: np.ndarray, y_train: np.ndarray) -> None:\n",
    "        \"\"\"Fit the Logsitic Regression model on provided training features and labels.\"\"\"\n",
    "        pass\n",
    "\n",
    "    def validate(self, X_valid: np.ndarray, y_valid: np.ndarray, measure: str) -> float:\n",
    "        \"\"\"Compute the provided measure based on the validation features and labels.\"\"\"\n",
    "        pass\n",
    "\n",
    "    def predict_proba(self, X_test: np.ndarray) -> np.ndarray:\n",
    "        \"\"\"Predict the probabilities of the classes for the test features.\"\"\"\n",
    "        pass\n",
    "\n",
    "    def plot(selfl, measure: str) -> None:\n",
    "        \"\"\"Plot the evalueation measure over different values of lambda.\"\"\"\n",
    "        pass\n",
    "\n",
    "    def plot_coefficients(self) -> None:\n",
    "        \"\"\"Plot the coeefficients of the model over different values of lambda.\"\"\"\n",
    "        pass"
   ]
  },
  {
   "cell_type": "markdown",
   "metadata": {},
   "source": [
    "## Performance & Comparison"
   ]
  },
  {
   "cell_type": "code",
   "execution_count": null,
   "metadata": {},
   "outputs": [],
   "source": [
    "# TODO: Performance and Comparison"
   ]
  }
 ],
 "metadata": {
  "kernelspec": {
   "display_name": "venv",
   "language": "python",
   "name": "python3"
  },
  "language_info": {
   "codemirror_mode": {
    "name": "ipython",
    "version": 3
   },
   "file_extension": ".py",
   "mimetype": "text/x-python",
   "name": "python",
   "nbconvert_exporter": "python",
   "pygments_lexer": "ipython3",
   "version": "3.13.2"
  }
 },
 "nbformat": 4,
 "nbformat_minor": 2
}
